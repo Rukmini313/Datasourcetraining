{
  "nbformat": 4,
  "nbformat_minor": 0,
  "metadata": {
    "colab": {
      "provenance": [],
      "authorship_tag": "ABX9TyO17L4aP9o8pGC1T7wa5qfK",
      "include_colab_link": true
    },
    "kernelspec": {
      "name": "python3",
      "display_name": "Python 3"
    },
    "language_info": {
      "name": "python"
    }
  },
  "cells": [
    {
      "cell_type": "markdown",
      "metadata": {
        "id": "view-in-github",
        "colab_type": "text"
      },
      "source": [
        "<a href=\"https://colab.research.google.com/github/Rukmini313/Datasourcetraining/blob/main/Untitled8.ipynb\" target=\"_parent\"><img src=\"https://colab.research.google.com/assets/colab-badge.svg\" alt=\"Open In Colab\"/></a>"
      ]
    },
    {
      "cell_type": "code",
      "execution_count": 19,
      "metadata": {
        "colab": {
          "base_uri": "https://localhost:8080/"
        },
        "id": "jeBIVfOaRt0i",
        "outputId": "9880c675-9ac2-43c4-8caf-4b512c5837c8"
      },
      "outputs": [
        {
          "output_type": "stream",
          "name": "stdout",
          "text": [
            "100\n",
            "enter pin no:1234\n",
            "1234\n",
            "correct\n",
            "------ATM menu----\n",
            "1.bank balance\n",
            "2.depositing money\n",
            "3.withdraw money\n",
            "4.exit\n",
            "enter option (1/2/3/4):3\n",
            "enter the deposit amt below:\n",
            "enter deposit amt:10\n",
            "Available balance is 110\n",
            "Remove card\n",
            "------ATM menu----\n",
            "1.bank balance\n",
            "2.depositing money\n",
            "3.withdraw money\n",
            "4.exit\n"
          ]
        }
      ],
      "source": [
        "#balance, for depositing money, to withdraw money, and to exit from the ATM.\n",
        "initial_bal=100\n",
        "Actual_pin_no=\"1234\"\n",
        "Amt_list=[10,20,40,60]\n",
        "\n",
        "def main_menu():\n",
        "    print(\"------ATM menu----\")\n",
        "    print(\"1.bank balance\")\n",
        "    print(\"2.depositing money\")\n",
        "    print(\"3.withdraw money\")\n",
        "    print(\"4.exit\")\n",
        "def withdraw_amts():\n",
        "    print(\"£10\")\n",
        "    print(\"£20\")\n",
        "    print(\"£40\")\n",
        "    print(\"£60\")\n",
        "\n",
        "print(initial_bal)\n",
        "customer_pin_no=input(\"enter pin no:\")\n",
        "print(customer_pin_no)\n",
        "\n",
        "if  customer_pin_no == Actual_pin_no :\n",
        "\n",
        "    print(\"correct\")\n",
        "    main_menu()\n",
        "\n",
        "    option=input(\"enter option (1/2/3/4):\")\n",
        "\n",
        "    if(option==\"1\"):\n",
        "\n",
        "      print(\"Your Bank balance is=\",initial_bal)\n",
        "      main_menu()\n",
        "\n",
        "    elif(option==\"2\"):\n",
        "\n",
        "      print(\"select the withdraw amt below:\")\n",
        "      withdraw_amts()\n",
        "\n",
        "      withdaraw_amt=input(\"enter withdraw amt:\")\n",
        "      for x in Amt_list :\n",
        "        #print(x)\n",
        "        if(x==int(withdaraw_amt)) :\n",
        "          rest_bal=initial_bal- int(withdaraw_amt)\n",
        "          print(\"Your balance is: \",rest_bal)\n",
        "\n",
        "          break\n",
        "\n",
        "        elif int(withdaraw_amt)  % 10 == 0:\n",
        "\n",
        "          rest_bal=initial_bal- int(withdaraw_amt)\n",
        "          print(\"Your balance is: \",rest_bal)\n",
        "          break\n",
        "        else :\n",
        "          print(\"not valid no\")\n",
        "\n",
        "    elif(option==\"3\"):\n",
        "\n",
        "      #print(\"enter the deposit amt below:\")\n",
        "      deposit_amt=input(\"enter deposit amt:\")\n",
        "      initial_bal=initial_bal+int(deposit_amt)\n",
        "      print(\"Available balance is\",initial_bal)\n",
        "      print(\"Remove card\")\n",
        "      main_menu()\n",
        "\n",
        "    else:\n",
        "\n",
        "      print(\"Goodbye\")\n",
        "\n",
        "else:\n",
        "\n",
        "  print(\"wrong\")\n",
        "  #break"
      ]
    },
    {
      "cell_type": "code",
      "source": [],
      "metadata": {
        "id": "vvBC5Eqwi6SJ"
      },
      "execution_count": null,
      "outputs": []
    }
  ]
}